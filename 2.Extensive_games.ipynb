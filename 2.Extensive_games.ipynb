{
 "cells": [
  {
   "cell_type": "markdown",
   "metadata": {},
   "source": [
    "## Extensive Games\n",
    "Ismael Oulkhir\n",
    "\n",
    "\n",
    "Mail: oulkhir.ismael@gmail.com\n",
    "\n",
    "LinkedIn: https://www.linkedin.com/in/ismail-oulkhir/\n"
   ]
  },
  {
   "cell_type": "markdown",
   "metadata": {},
   "source": [
    "The Main features of Extensive games is that : \n",
    "- Moves are in sequence\n",
    "- Every possible situation is known to the players, at any time they know the whole past history and the future developments "
   ]
  },
  {
   "cell_type": "markdown",
   "metadata": {},
   "source": [
    "**Perfect Information** : \n",
    "    Each player is informed of all the events that have previously occured : Chess - Tic-Tac-Toe - Go"
   ]
  },
  {
   "cell_type": "markdown",
   "metadata": {},
   "source": [
    "Mathematically an **Extensive game can be defined as**:\n",
    "- A finite set ${1...n}$ of players\n",
    "- A game tree $(V,E,x_0)$\n",
    "- A partition of the ${P_1,...,P_{n+1}}$ of the vertices which are not leaves\n",
    "- A probability distribution for each vertex $P_{n+1}$ defined on the edges from the vertex to it's children\n",
    "- An n-dimensional vector of payoffs/utilities attached to each leaf\n",
    "\n",
    "$P_i$ is the set of nodes v where Player i must choose a child of v representing a possible move for him.\n",
    "\n",
    "$P_{n+1}$ is the set of nodes where a chance move is present\n",
    "\n",
    "When there is no chance move, there is no need for utility function, we can use preferences only on the leaves."
   ]
  },
  {
   "cell_type": "markdown",
   "metadata": {},
   "source": [
    "If we define the **length** of the game as the length of the longest path from the root to the leaves.\n",
    "\n",
    "Decision theory allows to solve games of length 1. \n",
    "\n",
    "Rationality assumption 4 (Leveling) allows solving games of length i+1 if games of length i is solved. \n",
    "\n",
    "Thus We can solve any extensive game of finite length using **Backward Induction**.\n",
    "\n",
    "**The Rational outcome of any finite length Extensive form game is given by Backward Induction.**"
   ]
  },
  {
   "attachments": {
    "image.png": {
     "image/png": "[encoded data removed]"
    }
   },
   "cell_type": "markdown",
   "metadata": {},
   "source": [
    "## 2 Hedge Funds Example\n",
    "\n",
    "Assume you have two hedge funds undertaking this situation :\n",
    "\n",
    "![image.png](attachment:image.png)\n",
    "\n",
    "Let's code a python program to solve this recursively"
   ]
  },
  {
   "cell_type": "code",
   "execution_count": 10,
   "metadata": {},
   "outputs": [
    {
     "name": "stdout",
     "output_type": "stream",
     "text": [
      "Player 1 chooses b (Payoff: (300, 200))\n",
      "  If a:\n",
      "    Player 2 chooses c (Payoff: (20, 30))\n",
      "      If c:\n",
      "        Payoff: (20, 30)\n",
      "      If d:\n",
      "        Payoff: (50, 20)\n",
      "  If b:\n",
      "    Player 2 chooses e (Payoff: (300, 200))\n",
      "      If e:\n",
      "        Payoff: (300, 200)\n",
      "      If f:\n",
      "        Payoff: (100, 80)\n"
     ]
    }
   ],
   "source": [
    "# Define the game tree\n",
    "game_tree = {\n",
    "    \"player\": 1,\n",
    "    \"strategies\": {\n",
    "        \"a\": {\n",
    "            \"player\": 2,\n",
    "            \"strategies\": {\n",
    "                \"c\": {\"payoff\": (20, 30)},  # Payoff for (Player 1, Player 2)\n",
    "                \"d\": {\"payoff\": (50, 20)}\n",
    "            }\n",
    "        },\n",
    "        \"b\": {\n",
    "            \"player\": 2,\n",
    "            \"strategies\": {\n",
    "                \"e\": {\"payoff\": (300, 200)},\n",
    "                \"f\": {\"payoff\": (100, 80)}\n",
    "            }\n",
    "        }\n",
    "    }\n",
    "}\n",
    "\n",
    "# Recursive function to solve the game\n",
    "def solve_game(node):\n",
    "    if \"payoff\" in node:\n",
    "        # Base case: leaf node, return the payoff\n",
    "        return node[\"payoff\"]\n",
    "    \n",
    "    # Recursive case: determine the best response for the current player\n",
    "    player = node[\"player\"]\n",
    "    best_payoff = None\n",
    "    best_strategy = None\n",
    "    \n",
    "    for strategy, child in node[\"strategies\"].items():\n",
    "        # Get the payoff for this strategy\n",
    "        payoff = solve_game(child)\n",
    "        \n",
    "        # Determine if this is the best strategy for the current player\n",
    "        if best_payoff is None:\n",
    "            best_payoff = payoff\n",
    "            best_strategy = strategy\n",
    "        else:\n",
    "            # Compare payoffs for the current player\n",
    "            if player == 1 and payoff[0] > best_payoff[0]:\n",
    "                best_payoff = payoff\n",
    "                best_strategy = strategy\n",
    "            elif player == 2 and payoff[1] > best_payoff[1]:\n",
    "                best_payoff = payoff\n",
    "                best_strategy = strategy\n",
    "    \n",
    "    # Store the best payoff and strategy in the current node\n",
    "    node[\"best_payoff\"] = best_payoff\n",
    "    node[\"best_strategy\"] = best_strategy\n",
    "    \n",
    "    return best_payoff\n",
    "\n",
    "# Solve the game\n",
    "solve_game(game_tree)\n",
    "\n",
    "# Print the results\n",
    "def print_results(node, indent=\"\"):\n",
    "    if \"payoff\" in node:\n",
    "        print(f\"{indent}Payoff: {node['payoff']}\")\n",
    "    else:\n",
    "        print(f\"{indent}Player {node['player']} chooses {node['best_strategy']} (Payoff: {node['best_payoff']})\")\n",
    "        for strategy, child in node[\"strategies\"].items():\n",
    "            print(f\"{indent}  If {strategy}:\")\n",
    "            print_results(child, indent + \"    \")\n",
    "\n",
    "print_results(game_tree)"
   ]
  },
  {
   "cell_type": "markdown",
   "metadata": {},
   "source": [
    "## Impartial Combinatorial game \n",
    "\n",
    "- Game involving Two players alternating moves\n",
    "- Finite number of positions\n",
    "- Players follow the same rules\n",
    "- Game ends when no further moves are possible\n",
    "- Game doesn't involve chance\n",
    "- Classical version : player with no moves left. Misère when you leave the other player to take the last move"
   ]
  },
  {
   "cell_type": "markdown",
   "metadata": {},
   "source": [
    "We Solve these games by classifying positions to P positions or N positions.\n",
    "\n",
    "In the classical version :\n",
    "- Terminal Positions are P positions (losing)\n",
    "- From P position you can only go to N position \n",
    "- From N position you can go to P or N (Winning)"
   ]
  },
  {
   "cell_type": "markdown",
   "metadata": {},
   "source": [
    "### Nim Game\n",
    "In the nim game you are confronted k piles of cards $(n_1,....,n_k)$. The objective is to clear the table i.e the last player taking cards (Classical Version)"
   ]
  },
  {
   "cell_type": "code",
   "execution_count": 5,
   "metadata": {},
   "outputs": [
    {
     "name": "stdout",
     "output_type": "stream",
     "text": [
      "this nim game is a P-position\n"
     ]
    }
   ],
   "source": [
    "def nim_game_solver(L):\n",
    "    S=0\n",
    "    for k in L :\n",
    "        S^=k\n",
    "    if S==0:\n",
    "        return \"this nim game is a P-position\"\n",
    "    else :\n",
    "        return \"this is an N-Position\"\n",
    "    \n",
    "Example=[2,2,0]\n",
    "print(nim_game_solver(Example))"
   ]
  }
 ],
 "metadata": {
  "kernelspec": {
   "display_name": "Python 3",
   "language": "python",
   "name": "python3"
  },
  "language_info": {
   "codemirror_mode": {
    "name": "ipython",
    "version": 3
   },
   "file_extension": ".py",
   "mimetype": "text/x-python",
   "name": "python",
   "nbconvert_exporter": "python",
   "pygments_lexer": "ipython3",
   "version": "3.13.0"
  }
 },
 "nbformat": 4,
 "nbformat_minor": 2
}
