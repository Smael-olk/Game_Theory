{
 "cells": [
  {
   "cell_type": "markdown",
   "metadata": {},
   "source": [
    "## Game theory\n",
    "Ismael Oulkhir\n",
    "\n",
    "\n",
    "Mail: oulkhir.ismael@gmail.com\n",
    "\n",
    "LinkedIn: https://www.linkedin.com/in/ismail-oulkhir/\n"
   ]
  },
  {
   "cell_type": "code",
   "execution_count": 1,
   "metadata": {},
   "outputs": [],
   "source": [
    "import numpy as np\n",
    "import matplotlib.pyplot as plt\n",
    "import yfinance as yf"
   ]
  },
  {
   "cell_type": "markdown",
   "metadata": {},
   "source": [
    "We are confronted academically to one decision maker optimization :\n",
    "- scalar optimization : functions , energy , consumption \n",
    "- stochastic optimization : stochastic optimal control \n",
    "\n",
    "Game theory  is optimization under many decision makers. \n",
    "Games are efficient models for real life situations.\n",
    "---\n",
    "\n",
    "### Game :\n",
    "1. A Game is :\n",
    "   - A set of **players** S (atleast 2)\n",
    "   - A set of **rules** the players must follow\n",
    "   - An initial situation \n",
    "   - All possible final situations\n",
    "   - The **Preferences** of players on these outcomes\n",
    "\n",
    "2. Players are :\n",
    "   - Selfish : Players care **only** about their own **preferences** on the outcomes of the games.\n",
    "   - Rational :  5 rationality assumptions :\n",
    "      - Players have preferences (defined by preference relation on the outcomes)\n",
    "      - Players are able to present a utility function on these preferences \n",
    "      - Players are able to use probability laws consistently and base their preferences on expected utility\n",
    "      - Players are able to level and reason recursively about the outcomes of their actions and the consequences of these actions with respect to other players\n",
    "      - Players use Game Theory whenever possible\n"
   ]
  },
  {
   "cell_type": "markdown",
   "metadata": {},
   "source": [
    "**Dominated Strategy** : \n",
    "    A player never takes actions a if there is action b such that $u(b)>u(a)$.\n",
    "\n",
    "    This the principle of dominated strategy."
   ]
  }
 ],
 "metadata": {
  "kernelspec": {
   "display_name": "Python 3",
   "language": "python",
   "name": "python3"
  },
  "language_info": {
   "codemirror_mode": {
    "name": "ipython",
    "version": 3
   },
   "file_extension": ".py",
   "mimetype": "text/x-python",
   "name": "python",
   "nbconvert_exporter": "python",
   "pygments_lexer": "ipython3",
   "version": "3.13.0"
  }
 },
 "nbformat": 4,
 "nbformat_minor": 2
}
